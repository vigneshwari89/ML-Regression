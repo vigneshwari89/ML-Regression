{
 "cells": [
  {
   "cell_type": "code",
   "execution_count": 3,
   "id": "b1aed744-0352-4ea7-91a1-5fa4ed3fe35b",
   "metadata": {},
   "outputs": [],
   "source": [
    "import pickle"
   ]
  },
  {
   "cell_type": "code",
   "execution_count": 5,
   "id": "5de22f28-6b5d-4ef2-ba29-e8f51c5b01e2",
   "metadata": {},
   "outputs": [
    {
     "name": "stderr",
     "output_type": "stream",
     "text": [
      "C:\\vichu\\Lib\\site-packages\\sklearn\\base.py:493: UserWarning: X does not have valid feature names, but DecisionTreeRegressor was fitted with feature names\n",
      "  warnings.warn(\n"
     ]
    }
   ],
   "source": [
    "loaded_model=pickle.load(open(\"finalized_model_Mul_linear.sav\",'rb'))\n",
    "result=loaded_model.predict([[1234,345,4565,1,0]])"
   ]
  },
  {
   "cell_type": "code",
   "execution_count": 7,
   "id": "9ca5fd3f-19f3-4af0-a07c-81c90ecdd528",
   "metadata": {},
   "outputs": [
    {
     "data": {
      "text/plain": [
       "array([14681.4])"
      ]
     },
     "execution_count": 7,
     "metadata": {},
     "output_type": "execute_result"
    }
   ],
   "source": [
    "result"
   ]
  },
  {
   "cell_type": "code",
   "execution_count": null,
   "id": "653dcc8e-03f2-4b7a-9de6-9f93a3095aca",
   "metadata": {},
   "outputs": [],
   "source": []
  }
 ],
 "metadata": {
  "kernelspec": {
   "display_name": "Python [conda env:base] *",
   "language": "python",
   "name": "conda-base-py"
  },
  "language_info": {
   "codemirror_mode": {
    "name": "ipython",
    "version": 3
   },
   "file_extension": ".py",
   "mimetype": "text/x-python",
   "name": "python",
   "nbconvert_exporter": "python",
   "pygments_lexer": "ipython3",
   "version": "3.12.7"
  }
 },
 "nbformat": 4,
 "nbformat_minor": 5
}
